{
 "cells": [
  {
   "cell_type": "markdown",
   "metadata": {},
   "source": [
    "# Fonis Datageeks\n",
    "## Wokshop: Exploratory Data Analysis\n",
    "### Domaći zadatak 2: Ad-hoc analiza kupovina tokom Black Fridaya\n",
    "***"
   ]
  },
  {
   "cell_type": "markdown",
   "metadata": {},
   "source": [
    "**Dodati code cellove sa rešenjem nakon svakog zadatka.**"
   ]
  },
  {
   "cell_type": "markdown",
   "metadata": {},
   "source": [
    "***"
   ]
  },
  {
   "cell_type": "markdown",
   "metadata": {},
   "source": [
    "1. Učitati dataset BlackFriday. Nalazi se na [našem drajvu](https://drive.google.com/open?id=1e7U_goISvsagQP1Rwqllu15MjSmc-0cP). Radi se o datasetu o kupovinama koje su se obavile u prodavnici za vreme Black Fridaya. Više informacija o datasetu možete naći na [Kaggle-u](https://www.kaggle.com/mehdidag/black-friday)."
   ]
  },
  {
   "cell_type": "code",
   "execution_count": 20,
   "metadata": {},
   "outputs": [],
   "source": [
    "import numpy as np\n",
    "import pandas as pd\n",
    "import seaborn as sns\n",
    "import matplotlib.pyplot as plt\n",
    "%matplotlib inline\n",
    "df = pd.read_csv('BlackFriday.csv')"
   ]
  },
  {
   "cell_type": "code",
   "execution_count": 3,
   "metadata": {},
   "outputs": [
    {
     "data": {
      "text/html": [
       "<div>\n",
       "<style scoped>\n",
       "    .dataframe tbody tr th:only-of-type {\n",
       "        vertical-align: middle;\n",
       "    }\n",
       "\n",
       "    .dataframe tbody tr th {\n",
       "        vertical-align: top;\n",
       "    }\n",
       "\n",
       "    .dataframe thead th {\n",
       "        text-align: right;\n",
       "    }\n",
       "</style>\n",
       "<table border=\"1\" class=\"dataframe\">\n",
       "  <thead>\n",
       "    <tr style=\"text-align: right;\">\n",
       "      <th></th>\n",
       "      <th>User_ID</th>\n",
       "      <th>Product_ID</th>\n",
       "      <th>Gender</th>\n",
       "      <th>Age</th>\n",
       "      <th>Occupation</th>\n",
       "      <th>City_Category</th>\n",
       "      <th>Stay_In_Current_City_Years</th>\n",
       "      <th>Marital_Status</th>\n",
       "      <th>Product_Category_1</th>\n",
       "      <th>Product_Category_2</th>\n",
       "      <th>Product_Category_3</th>\n",
       "      <th>Purchase</th>\n",
       "    </tr>\n",
       "  </thead>\n",
       "  <tbody>\n",
       "    <tr>\n",
       "      <th>0</th>\n",
       "      <td>1000001</td>\n",
       "      <td>P00069042</td>\n",
       "      <td>F</td>\n",
       "      <td>0-17</td>\n",
       "      <td>10</td>\n",
       "      <td>A</td>\n",
       "      <td>2</td>\n",
       "      <td>0</td>\n",
       "      <td>3</td>\n",
       "      <td>NaN</td>\n",
       "      <td>NaN</td>\n",
       "      <td>8370</td>\n",
       "    </tr>\n",
       "    <tr>\n",
       "      <th>1</th>\n",
       "      <td>1000001</td>\n",
       "      <td>P00248942</td>\n",
       "      <td>F</td>\n",
       "      <td>0-17</td>\n",
       "      <td>10</td>\n",
       "      <td>A</td>\n",
       "      <td>2</td>\n",
       "      <td>0</td>\n",
       "      <td>1</td>\n",
       "      <td>6.0</td>\n",
       "      <td>14.0</td>\n",
       "      <td>15200</td>\n",
       "    </tr>\n",
       "    <tr>\n",
       "      <th>2</th>\n",
       "      <td>1000001</td>\n",
       "      <td>P00087842</td>\n",
       "      <td>F</td>\n",
       "      <td>0-17</td>\n",
       "      <td>10</td>\n",
       "      <td>A</td>\n",
       "      <td>2</td>\n",
       "      <td>0</td>\n",
       "      <td>12</td>\n",
       "      <td>NaN</td>\n",
       "      <td>NaN</td>\n",
       "      <td>1422</td>\n",
       "    </tr>\n",
       "    <tr>\n",
       "      <th>3</th>\n",
       "      <td>1000001</td>\n",
       "      <td>P00085442</td>\n",
       "      <td>F</td>\n",
       "      <td>0-17</td>\n",
       "      <td>10</td>\n",
       "      <td>A</td>\n",
       "      <td>2</td>\n",
       "      <td>0</td>\n",
       "      <td>12</td>\n",
       "      <td>14.0</td>\n",
       "      <td>NaN</td>\n",
       "      <td>1057</td>\n",
       "    </tr>\n",
       "    <tr>\n",
       "      <th>4</th>\n",
       "      <td>1000002</td>\n",
       "      <td>P00285442</td>\n",
       "      <td>M</td>\n",
       "      <td>55+</td>\n",
       "      <td>16</td>\n",
       "      <td>C</td>\n",
       "      <td>4+</td>\n",
       "      <td>0</td>\n",
       "      <td>8</td>\n",
       "      <td>NaN</td>\n",
       "      <td>NaN</td>\n",
       "      <td>7969</td>\n",
       "    </tr>\n",
       "    <tr>\n",
       "      <th>5</th>\n",
       "      <td>1000003</td>\n",
       "      <td>P00193542</td>\n",
       "      <td>M</td>\n",
       "      <td>26-35</td>\n",
       "      <td>15</td>\n",
       "      <td>A</td>\n",
       "      <td>3</td>\n",
       "      <td>0</td>\n",
       "      <td>1</td>\n",
       "      <td>2.0</td>\n",
       "      <td>NaN</td>\n",
       "      <td>15227</td>\n",
       "    </tr>\n",
       "    <tr>\n",
       "      <th>6</th>\n",
       "      <td>1000004</td>\n",
       "      <td>P00184942</td>\n",
       "      <td>M</td>\n",
       "      <td>46-50</td>\n",
       "      <td>7</td>\n",
       "      <td>B</td>\n",
       "      <td>2</td>\n",
       "      <td>1</td>\n",
       "      <td>1</td>\n",
       "      <td>8.0</td>\n",
       "      <td>17.0</td>\n",
       "      <td>19215</td>\n",
       "    </tr>\n",
       "    <tr>\n",
       "      <th>7</th>\n",
       "      <td>1000004</td>\n",
       "      <td>P00346142</td>\n",
       "      <td>M</td>\n",
       "      <td>46-50</td>\n",
       "      <td>7</td>\n",
       "      <td>B</td>\n",
       "      <td>2</td>\n",
       "      <td>1</td>\n",
       "      <td>1</td>\n",
       "      <td>15.0</td>\n",
       "      <td>NaN</td>\n",
       "      <td>15854</td>\n",
       "    </tr>\n",
       "  </tbody>\n",
       "</table>\n",
       "</div>"
      ],
      "text/plain": [
       "   User_ID Product_ID Gender    Age  Occupation City_Category  \\\n",
       "0  1000001  P00069042      F   0-17          10             A   \n",
       "1  1000001  P00248942      F   0-17          10             A   \n",
       "2  1000001  P00087842      F   0-17          10             A   \n",
       "3  1000001  P00085442      F   0-17          10             A   \n",
       "4  1000002  P00285442      M    55+          16             C   \n",
       "5  1000003  P00193542      M  26-35          15             A   \n",
       "6  1000004  P00184942      M  46-50           7             B   \n",
       "7  1000004  P00346142      M  46-50           7             B   \n",
       "\n",
       "  Stay_In_Current_City_Years  Marital_Status  Product_Category_1  \\\n",
       "0                          2               0                   3   \n",
       "1                          2               0                   1   \n",
       "2                          2               0                  12   \n",
       "3                          2               0                  12   \n",
       "4                         4+               0                   8   \n",
       "5                          3               0                   1   \n",
       "6                          2               1                   1   \n",
       "7                          2               1                   1   \n",
       "\n",
       "   Product_Category_2  Product_Category_3  Purchase  \n",
       "0                 NaN                 NaN      8370  \n",
       "1                 6.0                14.0     15200  \n",
       "2                 NaN                 NaN      1422  \n",
       "3                14.0                 NaN      1057  \n",
       "4                 NaN                 NaN      7969  \n",
       "5                 2.0                 NaN     15227  \n",
       "6                 8.0                17.0     19215  \n",
       "7                15.0                 NaN     15854  "
      ]
     },
     "execution_count": 3,
     "metadata": {},
     "output_type": "execute_result"
    }
   ],
   "source": [
    "df.head(8)"
   ]
  },
  {
   "cell_type": "markdown",
   "metadata": {},
   "source": [
    "***"
   ]
  },
  {
   "cell_type": "markdown",
   "metadata": {},
   "source": [
    "2. Koliko procenata kupaca je mlađe od 30 godina?"
   ]
  },
  {
   "cell_type": "code",
   "execution_count": 10,
   "metadata": {},
   "outputs": [
    {
     "name": "stdout",
     "output_type": "stream",
     "text": [
      "0.6083426188248381 %\n"
     ]
    }
   ],
   "source": [
    "young_categories = ['0-17', '18-25', '26-35']\n",
    "showYounger30  = df[df['Age'].isin(young_categories)].shape[0] / float(df.shape[0])\n",
    "print(showYounger30, '%')"
   ]
  },
  {
   "cell_type": "markdown",
   "metadata": {},
   "source": [
    "***"
   ]
  },
  {
   "cell_type": "markdown",
   "metadata": {},
   "source": [
    "3. Koliko prosečno novca na kupovinu potroše muškarci a koliko žene?"
   ]
  },
  {
   "cell_type": "code",
   "execution_count": 5,
   "metadata": {},
   "outputs": [
    {
     "data": {
      "text/plain": [
       "Gender\n",
       "F    8809.761349\n",
       "M    9504.771713\n",
       "Name: Purchase, dtype: float64"
      ]
     },
     "execution_count": 5,
     "metadata": {},
     "output_type": "execute_result"
    }
   ],
   "source": [
    "df.groupby(['Gender'])['Purchase'].mean()"
   ]
  },
  {
   "cell_type": "markdown",
   "metadata": {},
   "source": [
    "***"
   ]
  },
  {
   "cell_type": "markdown",
   "metadata": {},
   "source": [
    "4. Ukratko opisati koliko često kupuju i koliko novca troše na kupovinu klijenti različite starosti i različitog pola."
   ]
  },
  {
   "cell_type": "code",
   "execution_count": 11,
   "metadata": {},
   "outputs": [
    {
     "data": {
      "text/html": [
       "<div>\n",
       "<style scoped>\n",
       "    .dataframe tbody tr th:only-of-type {\n",
       "        vertical-align: middle;\n",
       "    }\n",
       "\n",
       "    .dataframe tbody tr th {\n",
       "        vertical-align: top;\n",
       "    }\n",
       "\n",
       "    .dataframe thead tr th {\n",
       "        text-align: left;\n",
       "    }\n",
       "\n",
       "    .dataframe thead tr:last-of-type th {\n",
       "        text-align: right;\n",
       "    }\n",
       "</style>\n",
       "<table border=\"1\" class=\"dataframe\">\n",
       "  <thead>\n",
       "    <tr>\n",
       "      <th></th>\n",
       "      <th colspan=\"4\" halign=\"left\">Product_Category_1</th>\n",
       "      <th colspan=\"4\" halign=\"left\">Product_Category_2</th>\n",
       "      <th colspan=\"4\" halign=\"left\">Product_Category_3</th>\n",
       "      <th colspan=\"4\" halign=\"left\">Purchase</th>\n",
       "    </tr>\n",
       "    <tr>\n",
       "      <th></th>\n",
       "      <th>count</th>\n",
       "      <th>min</th>\n",
       "      <th>max</th>\n",
       "      <th>mean</th>\n",
       "      <th>count</th>\n",
       "      <th>min</th>\n",
       "      <th>max</th>\n",
       "      <th>mean</th>\n",
       "      <th>count</th>\n",
       "      <th>min</th>\n",
       "      <th>max</th>\n",
       "      <th>mean</th>\n",
       "      <th>count</th>\n",
       "      <th>min</th>\n",
       "      <th>max</th>\n",
       "      <th>mean</th>\n",
       "    </tr>\n",
       "    <tr>\n",
       "      <th>Age</th>\n",
       "      <th></th>\n",
       "      <th></th>\n",
       "      <th></th>\n",
       "      <th></th>\n",
       "      <th></th>\n",
       "      <th></th>\n",
       "      <th></th>\n",
       "      <th></th>\n",
       "      <th></th>\n",
       "      <th></th>\n",
       "      <th></th>\n",
       "      <th></th>\n",
       "      <th></th>\n",
       "      <th></th>\n",
       "      <th></th>\n",
       "      <th></th>\n",
       "    </tr>\n",
       "  </thead>\n",
       "  <tbody>\n",
       "    <tr>\n",
       "      <th>0-17</th>\n",
       "      <td>14707</td>\n",
       "      <td>1</td>\n",
       "      <td>18</td>\n",
       "      <td>4.94</td>\n",
       "      <td>10466</td>\n",
       "      <td>2.0</td>\n",
       "      <td>18.0</td>\n",
       "      <td>9.02</td>\n",
       "      <td>4789</td>\n",
       "      <td>3.0</td>\n",
       "      <td>18.0</td>\n",
       "      <td>11.85</td>\n",
       "      <td>14707</td>\n",
       "      <td>187</td>\n",
       "      <td>23955</td>\n",
       "      <td>9020.13</td>\n",
       "    </tr>\n",
       "    <tr>\n",
       "      <th>18-25</th>\n",
       "      <td>97634</td>\n",
       "      <td>1</td>\n",
       "      <td>18</td>\n",
       "      <td>5.00</td>\n",
       "      <td>68256</td>\n",
       "      <td>2.0</td>\n",
       "      <td>18.0</td>\n",
       "      <td>9.47</td>\n",
       "      <td>30889</td>\n",
       "      <td>3.0</td>\n",
       "      <td>18.0</td>\n",
       "      <td>12.40</td>\n",
       "      <td>97634</td>\n",
       "      <td>185</td>\n",
       "      <td>23958</td>\n",
       "      <td>9235.20</td>\n",
       "    </tr>\n",
       "    <tr>\n",
       "      <th>26-35</th>\n",
       "      <td>214690</td>\n",
       "      <td>1</td>\n",
       "      <td>18</td>\n",
       "      <td>5.22</td>\n",
       "      <td>147745</td>\n",
       "      <td>2.0</td>\n",
       "      <td>18.0</td>\n",
       "      <td>9.81</td>\n",
       "      <td>65916</td>\n",
       "      <td>3.0</td>\n",
       "      <td>18.0</td>\n",
       "      <td>12.65</td>\n",
       "      <td>214690</td>\n",
       "      <td>185</td>\n",
       "      <td>23961</td>\n",
       "      <td>9314.59</td>\n",
       "    </tr>\n",
       "    <tr>\n",
       "      <th>36-45</th>\n",
       "      <td>107499</td>\n",
       "      <td>1</td>\n",
       "      <td>18</td>\n",
       "      <td>5.39</td>\n",
       "      <td>74169</td>\n",
       "      <td>2.0</td>\n",
       "      <td>18.0</td>\n",
       "      <td>9.95</td>\n",
       "      <td>32758</td>\n",
       "      <td>3.0</td>\n",
       "      <td>18.0</td>\n",
       "      <td>12.75</td>\n",
       "      <td>107499</td>\n",
       "      <td>185</td>\n",
       "      <td>23960</td>\n",
       "      <td>9401.48</td>\n",
       "    </tr>\n",
       "    <tr>\n",
       "      <th>46-50</th>\n",
       "      <td>44526</td>\n",
       "      <td>1</td>\n",
       "      <td>18</td>\n",
       "      <td>5.63</td>\n",
       "      <td>30441</td>\n",
       "      <td>2.0</td>\n",
       "      <td>18.0</td>\n",
       "      <td>10.18</td>\n",
       "      <td>13135</td>\n",
       "      <td>3.0</td>\n",
       "      <td>18.0</td>\n",
       "      <td>12.94</td>\n",
       "      <td>44526</td>\n",
       "      <td>186</td>\n",
       "      <td>23960</td>\n",
       "      <td>9284.87</td>\n",
       "    </tr>\n",
       "    <tr>\n",
       "      <th>51-55</th>\n",
       "      <td>37618</td>\n",
       "      <td>1</td>\n",
       "      <td>18</td>\n",
       "      <td>5.65</td>\n",
       "      <td>25652</td>\n",
       "      <td>2.0</td>\n",
       "      <td>18.0</td>\n",
       "      <td>10.28</td>\n",
       "      <td>11018</td>\n",
       "      <td>3.0</td>\n",
       "      <td>18.0</td>\n",
       "      <td>13.11</td>\n",
       "      <td>37618</td>\n",
       "      <td>187</td>\n",
       "      <td>23960</td>\n",
       "      <td>9620.62</td>\n",
       "    </tr>\n",
       "    <tr>\n",
       "      <th>55+</th>\n",
       "      <td>20903</td>\n",
       "      <td>1</td>\n",
       "      <td>18</td>\n",
       "      <td>5.90</td>\n",
       "      <td>13862</td>\n",
       "      <td>2.0</td>\n",
       "      <td>18.0</td>\n",
       "      <td>10.46</td>\n",
       "      <td>5773</td>\n",
       "      <td>3.0</td>\n",
       "      <td>18.0</td>\n",
       "      <td>13.15</td>\n",
       "      <td>20903</td>\n",
       "      <td>187</td>\n",
       "      <td>23960</td>\n",
       "      <td>9453.90</td>\n",
       "    </tr>\n",
       "  </tbody>\n",
       "</table>\n",
       "</div>"
      ],
      "text/plain": [
       "      Product_Category_1               Product_Category_2                    \\\n",
       "                   count min max  mean              count  min   max   mean   \n",
       "Age                                                                           \n",
       "0-17               14707   1  18  4.94              10466  2.0  18.0   9.02   \n",
       "18-25              97634   1  18  5.00              68256  2.0  18.0   9.47   \n",
       "26-35             214690   1  18  5.22             147745  2.0  18.0   9.81   \n",
       "36-45             107499   1  18  5.39              74169  2.0  18.0   9.95   \n",
       "46-50              44526   1  18  5.63              30441  2.0  18.0  10.18   \n",
       "51-55              37618   1  18  5.65              25652  2.0  18.0  10.28   \n",
       "55+                20903   1  18  5.90              13862  2.0  18.0  10.46   \n",
       "\n",
       "      Product_Category_3                   Purchase                       \n",
       "                   count  min   max   mean    count  min    max     mean  \n",
       "Age                                                                       \n",
       "0-17                4789  3.0  18.0  11.85    14707  187  23955  9020.13  \n",
       "18-25              30889  3.0  18.0  12.40    97634  185  23958  9235.20  \n",
       "26-35              65916  3.0  18.0  12.65   214690  185  23961  9314.59  \n",
       "36-45              32758  3.0  18.0  12.75   107499  185  23960  9401.48  \n",
       "46-50              13135  3.0  18.0  12.94    44526  186  23960  9284.87  \n",
       "51-55              11018  3.0  18.0  13.11    37618  187  23960  9620.62  \n",
       "55+                 5773  3.0  18.0  13.15    20903  187  23960  9453.90  "
      ]
     },
     "execution_count": 11,
     "metadata": {},
     "output_type": "execute_result"
    }
   ],
   "source": [
    "freq_purchase = ['Product_Category_1', 'Product_Category_2', 'Product_Category_3', 'Purchase']\n",
    "df.groupby('Age')[freq_purchase].agg(['count', 'min', 'max', 'mean']).round(2)"
   ]
  },
  {
   "cell_type": "code",
   "execution_count": 19,
   "metadata": {},
   "outputs": [
    {
     "data": {
      "text/plain": [
       "<matplotlib.axes._subplots.AxesSubplot at 0x237bf1f99b0>"
      ]
     },
     "execution_count": 19,
     "metadata": {},
     "output_type": "execute_result"
    },
    {
     "data": {
      "image/png": "[encoded data removed]",
      "text/plain": [
       "<Figure size 432x288 with 1 Axes>"
      ]
     },
     "metadata": {},
     "output_type": "display_data"
    }
   ],
   "source": [
    "df.groupby('Age')[freq_purchase].agg(['count']).round(2).plot(kind='bar')"
   ]
  },
  {
   "cell_type": "markdown",
   "metadata": {},
   "source": [
    "Najviše kupuju ljudi između 26 i 35 godina, zatim ljudi do 45 godina života i mladi od 18 do 25 godina. "
   ]
  },
  {
   "cell_type": "code",
   "execution_count": 18,
   "metadata": {},
   "outputs": [
    {
     "data": {
      "text/html": [
       "<div>\n",
       "<style scoped>\n",
       "    .dataframe tbody tr th:only-of-type {\n",
       "        vertical-align: middle;\n",
       "    }\n",
       "\n",
       "    .dataframe tbody tr th {\n",
       "        vertical-align: top;\n",
       "    }\n",
       "\n",
       "    .dataframe thead tr th {\n",
       "        text-align: left;\n",
       "    }\n",
       "\n",
       "    .dataframe thead tr:last-of-type th {\n",
       "        text-align: right;\n",
       "    }\n",
       "</style>\n",
       "<table border=\"1\" class=\"dataframe\">\n",
       "  <thead>\n",
       "    <tr>\n",
       "      <th></th>\n",
       "      <th colspan=\"4\" halign=\"left\">Product_Category_1</th>\n",
       "      <th colspan=\"4\" halign=\"left\">Product_Category_2</th>\n",
       "      <th colspan=\"4\" halign=\"left\">Product_Category_3</th>\n",
       "      <th colspan=\"4\" halign=\"left\">Purchase</th>\n",
       "    </tr>\n",
       "    <tr>\n",
       "      <th></th>\n",
       "      <th>count</th>\n",
       "      <th>min</th>\n",
       "      <th>max</th>\n",
       "      <th>mean</th>\n",
       "      <th>count</th>\n",
       "      <th>min</th>\n",
       "      <th>max</th>\n",
       "      <th>mean</th>\n",
       "      <th>count</th>\n",
       "      <th>min</th>\n",
       "      <th>max</th>\n",
       "      <th>mean</th>\n",
       "      <th>count</th>\n",
       "      <th>min</th>\n",
       "      <th>max</th>\n",
       "      <th>mean</th>\n",
       "    </tr>\n",
       "    <tr>\n",
       "      <th>Gender</th>\n",
       "      <th></th>\n",
       "      <th></th>\n",
       "      <th></th>\n",
       "      <th></th>\n",
       "      <th></th>\n",
       "      <th></th>\n",
       "      <th></th>\n",
       "      <th></th>\n",
       "      <th></th>\n",
       "      <th></th>\n",
       "      <th></th>\n",
       "      <th></th>\n",
       "      <th></th>\n",
       "      <th></th>\n",
       "      <th></th>\n",
       "      <th></th>\n",
       "    </tr>\n",
       "  </thead>\n",
       "  <tbody>\n",
       "    <tr>\n",
       "      <th>F</th>\n",
       "      <td>132197</td>\n",
       "      <td>1</td>\n",
       "      <td>18</td>\n",
       "      <td>5.6</td>\n",
       "      <td>89850</td>\n",
       "      <td>2.0</td>\n",
       "      <td>18.0</td>\n",
       "      <td>10.01</td>\n",
       "      <td>36932</td>\n",
       "      <td>3.0</td>\n",
       "      <td>18.0</td>\n",
       "      <td>12.45</td>\n",
       "      <td>132197</td>\n",
       "      <td>185</td>\n",
       "      <td>23959</td>\n",
       "      <td>8809.76</td>\n",
       "    </tr>\n",
       "    <tr>\n",
       "      <th>M</th>\n",
       "      <td>405380</td>\n",
       "      <td>1</td>\n",
       "      <td>18</td>\n",
       "      <td>5.2</td>\n",
       "      <td>280741</td>\n",
       "      <td>2.0</td>\n",
       "      <td>18.0</td>\n",
       "      <td>9.79</td>\n",
       "      <td>127346</td>\n",
       "      <td>3.0</td>\n",
       "      <td>18.0</td>\n",
       "      <td>12.73</td>\n",
       "      <td>405380</td>\n",
       "      <td>185</td>\n",
       "      <td>23961</td>\n",
       "      <td>9504.77</td>\n",
       "    </tr>\n",
       "  </tbody>\n",
       "</table>\n",
       "</div>"
      ],
      "text/plain": [
       "       Product_Category_1              Product_Category_2                    \\\n",
       "                    count min max mean              count  min   max   mean   \n",
       "Gender                                                                        \n",
       "F                  132197   1  18  5.6              89850  2.0  18.0  10.01   \n",
       "M                  405380   1  18  5.2             280741  2.0  18.0   9.79   \n",
       "\n",
       "       Product_Category_3                   Purchase                       \n",
       "                    count  min   max   mean    count  min    max     mean  \n",
       "Gender                                                                     \n",
       "F                   36932  3.0  18.0  12.45   132197  185  23959  8809.76  \n",
       "M                  127346  3.0  18.0  12.73   405380  185  23961  9504.77  "
      ]
     },
     "execution_count": 18,
     "metadata": {},
     "output_type": "execute_result"
    }
   ],
   "source": [
    "df.groupby('Gender')[freq_purchase].agg(['count', 'min', 'max', 'mean']).round(2)"
   ]
  },
  {
   "cell_type": "code",
   "execution_count": 21,
   "metadata": {},
   "outputs": [
    {
     "data": {
      "text/plain": [
       "<matplotlib.axes._subplots.AxesSubplot at 0x237bf134320>"
      ]
     },
     "execution_count": 21,
     "metadata": {},
     "output_type": "execute_result"
    },
    {
     "data": {
      "image/png": "[encoded data removed]",
      "text/plain": [
       "<Figure size 432x288 with 1 Axes>"
      ]
     },
     "metadata": {},
     "output_type": "display_data"
    }
   ],
   "source": [
    "df.groupby('Gender')[freq_purchase].agg(['count']).round(2).plot(kind='bar')"
   ]
  },
  {
   "cell_type": "markdown",
   "metadata": {},
   "source": [
    "Najviše se kupuje iz prve kategorije i toliko da druge i treća kategorija zajedno imaju isto kao i prva što važi za oba pola."
   ]
  },
  {
   "cell_type": "code",
   "execution_count": 4,
   "metadata": {},
   "outputs": [
    {
     "data": {
      "text/html": [
       "<div>\n",
       "<style scoped>\n",
       "    .dataframe tbody tr th:only-of-type {\n",
       "        vertical-align: middle;\n",
       "    }\n",
       "\n",
       "    .dataframe tbody tr th {\n",
       "        vertical-align: top;\n",
       "    }\n",
       "\n",
       "    .dataframe thead th {\n",
       "        text-align: right;\n",
       "    }\n",
       "</style>\n",
       "<table border=\"1\" class=\"dataframe\">\n",
       "  <thead>\n",
       "    <tr style=\"text-align: right;\">\n",
       "      <th></th>\n",
       "      <th></th>\n",
       "      <th>Product_Category_1</th>\n",
       "      <th>Product_Category_2</th>\n",
       "      <th>Product_Category_3</th>\n",
       "      <th>Purchase</th>\n",
       "    </tr>\n",
       "    <tr>\n",
       "      <th>Age</th>\n",
       "      <th>Gender</th>\n",
       "      <th></th>\n",
       "      <th></th>\n",
       "      <th></th>\n",
       "      <th></th>\n",
       "    </tr>\n",
       "  </thead>\n",
       "  <tbody>\n",
       "    <tr>\n",
       "      <th rowspan=\"2\" valign=\"top\">0-17</th>\n",
       "      <th>F</th>\n",
       "      <td>5.2</td>\n",
       "      <td>8.7</td>\n",
       "      <td>11.3</td>\n",
       "      <td>8444.7</td>\n",
       "    </tr>\n",
       "    <tr>\n",
       "      <th>M</th>\n",
       "      <td>4.8</td>\n",
       "      <td>9.2</td>\n",
       "      <td>12.1</td>\n",
       "      <td>9312.3</td>\n",
       "    </tr>\n",
       "    <tr>\n",
       "      <th rowspan=\"2\" valign=\"top\">18-25</th>\n",
       "      <th>F</th>\n",
       "      <td>5.4</td>\n",
       "      <td>9.6</td>\n",
       "      <td>12.1</td>\n",
       "      <td>8405.4</td>\n",
       "    </tr>\n",
       "    <tr>\n",
       "      <th>M</th>\n",
       "      <td>4.9</td>\n",
       "      <td>9.4</td>\n",
       "      <td>12.5</td>\n",
       "      <td>9506.5</td>\n",
       "    </tr>\n",
       "    <tr>\n",
       "      <th rowspan=\"2\" valign=\"top\">26-35</th>\n",
       "      <th>F</th>\n",
       "      <td>5.6</td>\n",
       "      <td>10.1</td>\n",
       "      <td>12.5</td>\n",
       "      <td>8791.8</td>\n",
       "    </tr>\n",
       "    <tr>\n",
       "      <th>M</th>\n",
       "      <td>5.1</td>\n",
       "      <td>9.7</td>\n",
       "      <td>12.7</td>\n",
       "      <td>9470.6</td>\n",
       "    </tr>\n",
       "    <tr>\n",
       "      <th rowspan=\"2\" valign=\"top\">36-45</th>\n",
       "      <th>F</th>\n",
       "      <td>5.6</td>\n",
       "      <td>10.0</td>\n",
       "      <td>12.5</td>\n",
       "      <td>9046.6</td>\n",
       "    </tr>\n",
       "    <tr>\n",
       "      <th>M</th>\n",
       "      <td>5.3</td>\n",
       "      <td>9.9</td>\n",
       "      <td>12.8</td>\n",
       "      <td>9517.1</td>\n",
       "    </tr>\n",
       "    <tr>\n",
       "      <th rowspan=\"2\" valign=\"top\">46-50</th>\n",
       "      <th>F</th>\n",
       "      <td>5.8</td>\n",
       "      <td>10.3</td>\n",
       "      <td>12.9</td>\n",
       "      <td>8929.4</td>\n",
       "    </tr>\n",
       "    <tr>\n",
       "      <th>M</th>\n",
       "      <td>5.6</td>\n",
       "      <td>10.1</td>\n",
       "      <td>13.0</td>\n",
       "      <td>9429.2</td>\n",
       "    </tr>\n",
       "    <tr>\n",
       "      <th rowspan=\"2\" valign=\"top\">51-55</th>\n",
       "      <th>F</th>\n",
       "      <td>5.9</td>\n",
       "      <td>10.4</td>\n",
       "      <td>12.8</td>\n",
       "      <td>9131.5</td>\n",
       "    </tr>\n",
       "    <tr>\n",
       "      <th>M</th>\n",
       "      <td>5.6</td>\n",
       "      <td>10.2</td>\n",
       "      <td>13.2</td>\n",
       "      <td>9789.0</td>\n",
       "    </tr>\n",
       "    <tr>\n",
       "      <th rowspan=\"2\" valign=\"top\">55+</th>\n",
       "      <th>F</th>\n",
       "      <td>6.2</td>\n",
       "      <td>10.8</td>\n",
       "      <td>13.1</td>\n",
       "      <td>9119.6</td>\n",
       "    </tr>\n",
       "    <tr>\n",
       "      <th>M</th>\n",
       "      <td>5.8</td>\n",
       "      <td>10.4</td>\n",
       "      <td>13.2</td>\n",
       "      <td>9557.1</td>\n",
       "    </tr>\n",
       "  </tbody>\n",
       "</table>\n",
       "</div>"
      ],
      "text/plain": [
       "              Product_Category_1  Product_Category_2  Product_Category_3  \\\n",
       "Age   Gender                                                               \n",
       "0-17  F                      5.2                 8.7                11.3   \n",
       "      M                      4.8                 9.2                12.1   \n",
       "18-25 F                      5.4                 9.6                12.1   \n",
       "      M                      4.9                 9.4                12.5   \n",
       "26-35 F                      5.6                10.1                12.5   \n",
       "      M                      5.1                 9.7                12.7   \n",
       "36-45 F                      5.6                10.0                12.5   \n",
       "      M                      5.3                 9.9                12.8   \n",
       "46-50 F                      5.8                10.3                12.9   \n",
       "      M                      5.6                10.1                13.0   \n",
       "51-55 F                      5.9                10.4                12.8   \n",
       "      M                      5.6                10.2                13.2   \n",
       "55+   F                      6.2                10.8                13.1   \n",
       "      M                      5.8                10.4                13.2   \n",
       "\n",
       "              Purchase  \n",
       "Age   Gender            \n",
       "0-17  F         8444.7  \n",
       "      M         9312.3  \n",
       "18-25 F         8405.4  \n",
       "      M         9506.5  \n",
       "26-35 F         8791.8  \n",
       "      M         9470.6  \n",
       "36-45 F         9046.6  \n",
       "      M         9517.1  \n",
       "46-50 F         8929.4  \n",
       "      M         9429.2  \n",
       "51-55 F         9131.5  \n",
       "      M         9789.0  \n",
       "55+   F         9119.6  \n",
       "      M         9557.1  "
      ]
     },
     "execution_count": 4,
     "metadata": {},
     "output_type": "execute_result"
    }
   ],
   "source": [
    "df.pivot_table(['Product_Category_1','Product_Category_2','Product_Category_3', 'Purchase'],\n",
    "               ['Age', 'Gender'] ).round(1)"
   ]
  },
  {
   "cell_type": "markdown",
   "metadata": {},
   "source": [
    "Vidimo da najviše troše muškarci iz svih starosnih grupa. "
   ]
  },
  {
   "cell_type": "markdown",
   "metadata": {},
   "source": [
    "***"
   ]
  },
  {
   "cell_type": "markdown",
   "metadata": {},
   "source": [
    "5. Vizualizovati i napisati zaključak o tome kako je raspoređena visina računa (Da li najviše ima računa sa malim/srednjim/visokim iznosima ili je jednako verovatno da se pojavi bilo koji iznos? Kakvih outlier ima više? Kojom biste merom najbolje opisali prosečan iznos računa? Da li taj iznos malo ili mnogo varira? (i slično)"
   ]
  },
  {
   "cell_type": "code",
   "execution_count": 25,
   "metadata": {},
   "outputs": [
    {
     "name": "stdout",
     "output_type": "stream",
     "text": [
      "count    537577.000000\n",
      "mean       9333.859853\n",
      "std        4981.022133\n",
      "min         185.000000\n",
      "25%        5866.000000\n",
      "50%        8062.000000\n",
      "75%       12073.000000\n",
      "max       23961.000000\n",
      "Name: Purchase, dtype: float64\n"
     ]
    }
   ],
   "source": [
    "purchase = df['Purchase']\n",
    "print(purchase.describe())"
   ]
  },
  {
   "cell_type": "code",
   "execution_count": 26,
   "metadata": {},
   "outputs": [
    {
     "data": {
      "text/plain": [
       "<matplotlib.axes._subplots.AxesSubplot at 0x20f18f8e710>"
      ]
     },
     "execution_count": 26,
     "metadata": {},
     "output_type": "execute_result"
    },
    {
     "data": {
      "image/png": "[encoded data removed]",
      "text/plain": [
       "<Figure size 432x288 with 1 Axes>"
      ]
     },
     "metadata": {},
     "output_type": "display_data"
    }
   ],
   "source": [
    "df['Purchase'].hist(bins=25)"
   ]
  },
  {
   "cell_type": "markdown",
   "metadata": {},
   "source": [
    "Prosečna visina računa je 9330 i najviše ima računa sa visokim iznosima u visini prosečnih i malo ispod prosečnih vrednosti. "
   ]
  },
  {
   "cell_type": "markdown",
   "metadata": {},
   "source": [
    "***"
   ]
  },
  {
   "cell_type": "markdown",
   "metadata": {},
   "source": [
    "6. Vizualizovati frekvenciju pojavljivanja svake od kategorija u kategoričkim atributima Starost, Zanimanje i Godine života u trenutnom gradu. Da li kupci ove radnje dolaze iz svih grupa podjednako? Prokomentarisati. `Napomena` Occupation atribut je maskiran, što znači da se odnosi na zanimanje ali umesto naziva zanimanja, zbog privatnosti je odlučeno da se vide samo šifre 0,1,2... (plaky)-\n"
   ]
  },
  {
   "cell_type": "code",
   "execution_count": 29,
   "metadata": {},
   "outputs": [
    {
     "data": {
      "text/plain": [
       "<matplotlib.axes._subplots.AxesSubplot at 0x2000ed29c18>"
      ]
     },
     "execution_count": 29,
     "metadata": {},
     "output_type": "execute_result"
    },
    {
     "data": {
      "image/png": "[encoded data removed]",
      "text/plain": [
       "<Figure size 1080x1080 with 3 Axes>"
      ]
     },
     "metadata": {},
     "output_type": "display_data"
    }
   ],
   "source": [
    "fig, axes = plt.subplots(3, 1, figsize=(15, 15))\n",
    "sns.countplot(x='Age', data=df, saturation=0.75, dodge=True, ax=axes[0])\n",
    "sns.countplot(x='Occupation', data=df, palette=None, saturation=0.75, dodge=True, ax=axes[1])\n",
    "sns.countplot(x='Stay_In_Current_City_Years', data=df, palette='Set2', saturation=0.85, ax=axes[2])"
   ]
  },
  {
   "cell_type": "markdown",
   "metadata": {},
   "source": [
    "Kupci ove radnje su najčešće između 26 i 35 godina starosti, kojima je ovo prva godina u gradu ( dok su ostali ravnomerno raspoređeni što se tiče vremena provedenog u ovom gradu ). Ima ih raznih zanimanja, ali su najfrekventnije grupe nulta, četvrta i sedma grupa. "
   ]
  },
  {
   "cell_type": "markdown",
   "metadata": {},
   "source": [
    "***"
   ]
  },
  {
   "cell_type": "markdown",
   "metadata": {},
   "source": [
    "7. Da li visina računa zavisi od bračnog statusa? Vizualizovati. "
   ]
  },
  {
   "cell_type": "code",
   "execution_count": 30,
   "metadata": {},
   "outputs": [
    {
     "data": {
      "text/html": [
       "<div>\n",
       "<style scoped>\n",
       "    .dataframe tbody tr th:only-of-type {\n",
       "        vertical-align: middle;\n",
       "    }\n",
       "\n",
       "    .dataframe tbody tr th {\n",
       "        vertical-align: top;\n",
       "    }\n",
       "\n",
       "    .dataframe thead th {\n",
       "        text-align: right;\n",
       "    }\n",
       "</style>\n",
       "<table border=\"1\" class=\"dataframe\">\n",
       "  <thead>\n",
       "    <tr style=\"text-align: right;\">\n",
       "      <th></th>\n",
       "      <th>count</th>\n",
       "      <th>mean</th>\n",
       "      <th>std</th>\n",
       "      <th>min</th>\n",
       "      <th>25%</th>\n",
       "      <th>50%</th>\n",
       "      <th>75%</th>\n",
       "      <th>max</th>\n",
       "    </tr>\n",
       "    <tr>\n",
       "      <th>Marital_Status</th>\n",
       "      <th></th>\n",
       "      <th></th>\n",
       "      <th></th>\n",
       "      <th></th>\n",
       "      <th></th>\n",
       "      <th></th>\n",
       "      <th></th>\n",
       "      <th></th>\n",
       "    </tr>\n",
       "  </thead>\n",
       "  <tbody>\n",
       "    <tr>\n",
       "      <th>0</th>\n",
       "      <td>317817.0</td>\n",
       "      <td>9333.325467</td>\n",
       "      <td>4985.253932</td>\n",
       "      <td>185.0</td>\n",
       "      <td>5850.0</td>\n",
       "      <td>8059.0</td>\n",
       "      <td>12080.0</td>\n",
       "      <td>23961.0</td>\n",
       "    </tr>\n",
       "    <tr>\n",
       "      <th>1</th>\n",
       "      <td>219760.0</td>\n",
       "      <td>9334.632681</td>\n",
       "      <td>4974.906972</td>\n",
       "      <td>186.0</td>\n",
       "      <td>5886.0</td>\n",
       "      <td>8066.0</td>\n",
       "      <td>12065.0</td>\n",
       "      <td>23961.0</td>\n",
       "    </tr>\n",
       "  </tbody>\n",
       "</table>\n",
       "</div>"
      ],
      "text/plain": [
       "                   count         mean          std    min     25%     50%  \\\n",
       "Marital_Status                                                              \n",
       "0               317817.0  9333.325467  4985.253932  185.0  5850.0  8059.0   \n",
       "1               219760.0  9334.632681  4974.906972  186.0  5886.0  8066.0   \n",
       "\n",
       "                    75%      max  \n",
       "Marital_Status                    \n",
       "0               12080.0  23961.0  \n",
       "1               12065.0  23961.0  "
      ]
     },
     "execution_count": 30,
     "metadata": {},
     "output_type": "execute_result"
    }
   ],
   "source": [
    "df.groupby(['Marital_Status'])['Purchase'].describe()"
   ]
  },
  {
   "cell_type": "code",
   "execution_count": 31,
   "metadata": {},
   "outputs": [
    {
     "name": "stderr",
     "output_type": "stream",
     "text": [
      "C:\\Users\\Marko\\Anaconda3\\lib\\site-packages\\scipy\\stats\\stats.py:1713: FutureWarning: Using a non-tuple sequence for multidimensional indexing is deprecated; use `arr[tuple(seq)]` instead of `arr[seq]`. In the future this will be interpreted as an array index, `arr[np.array(seq)]`, which will result either in an error or a different result.\n",
      "  return np.add.reduce(sorted[indexer] * weights, axis=axis) / sumval\n"
     ]
    },
    {
     "data": {
      "text/plain": [
       "<matplotlib.axes._subplots.AxesSubplot at 0x2112602aeb8>"
      ]
     },
     "execution_count": 31,
     "metadata": {},
     "output_type": "execute_result"
    },
    {
     "data": {
      "image/png": "[encoded data removed]",
      "text/plain": [
       "<Figure size 432x288 with 1 Axes>"
      ]
     },
     "metadata": {},
     "output_type": "display_data"
    }
   ],
   "source": [
    "sns.violinplot(x='Marital_Status', y='Purchase', data=df)"
   ]
  },
  {
   "cell_type": "markdown",
   "metadata": {},
   "source": [
    "Visina računa ne zavisi od bračnog statusa."
   ]
  },
  {
   "cell_type": "markdown",
   "metadata": {},
   "source": [
    "***"
   ]
  },
  {
   "cell_type": "markdown",
   "metadata": {},
   "source": [
    "8. Zabave radi, na osnovu svega ovoga, da li bi mogao/la da pretpostaviš šta prodaje ova kompanija?"
   ]
  },
  {
   "cell_type": "markdown",
   "metadata": {},
   "source": [
    "Ova kompanija se bavi hortikulturom ( uzgojem i prodajom biljaka )"
   ]
  },
  {
   "cell_type": "markdown",
   "metadata": {},
   "source": [
    "***"
   ]
  }
 ],
 "metadata": {
  "kernelspec": {
   "display_name": "Python 3",
   "language": "python",
   "name": "python3"
  },
  "language_info": {
   "codemirror_mode": {
    "name": "ipython",
    "version": 3
   },
   "file_extension": ".py",
   "mimetype": "text/x-python",
   "name": "python",
   "nbconvert_exporter": "python",
   "pygments_lexer": "ipython3",
   "version": "3.6.5"
  }
 },
 "nbformat": 4,
 "nbformat_minor": 2
}
